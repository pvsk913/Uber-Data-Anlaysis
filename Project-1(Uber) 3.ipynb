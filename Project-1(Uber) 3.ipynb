{
 "cells": [
  {
   "cell_type": "code",
   "execution_count": 2,
   "metadata": {
    "id": "QgAhYxagYhXH"
   },
   "outputs": [],
   "source": [
    "import pandas as pd\n",
    "import numpy as np\n",
    "import seaborn as sns\n",
    "import matplotlib.pyplot as plt"
   ]
  },
  {
   "cell_type": "code",
   "execution_count": null,
   "metadata": {
    "id": "HvugipmxZDEJ"
   },
   "outputs": [],
   "source": [
    "uber_15=pd.read_csv('/content/uber-raw-data-janjune-15_sample.csv')"
   ]
  },
  {
   "cell_type": "code",
   "execution_count": null,
   "metadata": {
    "colab": {
     "base_uri": "https://localhost:8080/"
    },
    "executionInfo": {
     "elapsed": 3,
     "status": "ok",
     "timestamp": 1714221614235,
     "user": {
      "displayName": "Phani Venkata Vulasi",
      "userId": "15387299971043697954"
     },
     "user_tz": -330
    },
    "id": "KY997YzbRlcJ",
    "outputId": "bd47fe9e-39b4-4e72-c1ad-c2f150df7c84"
   },
   "outputs": [],
   "source": [
    "uber_15.duplicated().sum()"
   ]
  },
  {
   "cell_type": "code",
   "execution_count": null,
   "metadata": {
    "id": "MzF40nl4U7sZ"
   },
   "outputs": [],
   "source": [
    "uber_15.drop_duplicates(inplace=True)"
   ]
  },
  {
   "cell_type": "code",
   "execution_count": null,
   "metadata": {
    "colab": {
     "base_uri": "https://localhost:8080/"
    },
    "executionInfo": {
     "elapsed": 916,
     "status": "ok",
     "timestamp": 1714221617415,
     "user": {
      "displayName": "Phani Venkata Vulasi",
      "userId": "15387299971043697954"
     },
     "user_tz": -330
    },
    "id": "JnOpBFX-VNR7",
    "outputId": "12c2704e-9218-4be1-c0cb-7f282f2e288a"
   },
   "outputs": [],
   "source": [
    "uber_15.duplicated().sum()"
   ]
  },
  {
   "cell_type": "code",
   "execution_count": null,
   "metadata": {
    "colab": {
     "base_uri": "https://localhost:8080/"
    },
    "executionInfo": {
     "elapsed": 3,
     "status": "ok",
     "timestamp": 1714221619587,
     "user": {
      "displayName": "Phani Venkata Vulasi",
      "userId": "15387299971043697954"
     },
     "user_tz": -330
    },
    "id": "6i2icFwNVQ4e",
    "outputId": "f220353c-653c-466c-fb4b-d314fd171855"
   },
   "outputs": [],
   "source": [
    "uber_15.shape"
   ]
  },
  {
   "cell_type": "code",
   "execution_count": null,
   "metadata": {
    "colab": {
     "base_uri": "https://localhost:8080/"
    },
    "executionInfo": {
     "elapsed": 2,
     "status": "ok",
     "timestamp": 1714221622379,
     "user": {
      "displayName": "Phani Venkata Vulasi",
      "userId": "15387299971043697954"
     },
     "user_tz": -330
    },
    "id": "VKtHzd3nV4kf",
    "outputId": "93d1aa8f-4476-4767-eea5-d56f341254be"
   },
   "outputs": [],
   "source": [
    "uber_15.dtypes"
   ]
  },
  {
   "cell_type": "code",
   "execution_count": null,
   "metadata": {
    "colab": {
     "base_uri": "https://localhost:8080/"
    },
    "executionInfo": {
     "elapsed": 3,
     "status": "ok",
     "timestamp": 1714221624049,
     "user": {
      "displayName": "Phani Venkata Vulasi",
      "userId": "15387299971043697954"
     },
     "user_tz": -330
    },
    "id": "mxEmrVlNV85o",
    "outputId": "0f6cc378-0c43-4fab-9f8d-f0306225213b"
   },
   "outputs": [],
   "source": [
    "uber_15.isnull().sum()"
   ]
  },
  {
   "cell_type": "code",
   "execution_count": null,
   "metadata": {
    "colab": {
     "base_uri": "https://localhost:8080/",
     "height": 36
    },
    "executionInfo": {
     "elapsed": 6,
     "status": "ok",
     "timestamp": 1714221627109,
     "user": {
      "displayName": "Phani Venkata Vulasi",
      "userId": "15387299971043697954"
     },
     "user_tz": -330
    },
    "id": "YQuAfBYLWF6S",
    "outputId": "0a774afd-e042-4813-8dc6-e5ad0df630f3"
   },
   "outputs": [],
   "source": [
    "uber_15['Pickup_date'][0]"
   ]
  },
  {
   "cell_type": "code",
   "execution_count": null,
   "metadata": {
    "colab": {
     "base_uri": "https://localhost:8080/"
    },
    "executionInfo": {
     "elapsed": 1076,
     "status": "ok",
     "timestamp": 1714221630177,
     "user": {
      "displayName": "Phani Venkata Vulasi",
      "userId": "15387299971043697954"
     },
     "user_tz": -330
    },
    "id": "PGom2nmDWiLd",
    "outputId": "64ff7dc9-39e7-4a77-b96c-d77bd72e64b0"
   },
   "outputs": [],
   "source": [
    "type(uber_15['Pickup_date'][0])"
   ]
  },
  {
   "cell_type": "code",
   "execution_count": null,
   "metadata": {
    "id": "rm0kL1oZWy1A"
   },
   "outputs": [],
   "source": [
    "uber_15['Pickup_date']=pd.to_datetime(uber_15['Pickup_date'])"
   ]
  },
  {
   "cell_type": "code",
   "execution_count": null,
   "metadata": {
    "colab": {
     "base_uri": "https://localhost:8080/"
    },
    "executionInfo": {
     "elapsed": 2,
     "status": "ok",
     "timestamp": 1714221633244,
     "user": {
      "displayName": "Phani Venkata Vulasi",
      "userId": "15387299971043697954"
     },
     "user_tz": -330
    },
    "id": "BSU_IhM1XEYf",
    "outputId": "f6aa480f-bef0-4125-b214-af76650bb2fb"
   },
   "outputs": [],
   "source": [
    "uber_15['Pickup_date'].dtype"
   ]
  },
  {
   "cell_type": "code",
   "execution_count": null,
   "metadata": {
    "colab": {
     "base_uri": "https://localhost:8080/"
    },
    "executionInfo": {
     "elapsed": 2,
     "status": "ok",
     "timestamp": 1714221635308,
     "user": {
      "displayName": "Phani Venkata Vulasi",
      "userId": "15387299971043697954"
     },
     "user_tz": -330
    },
    "id": "ageYb2qKXO0x",
    "outputId": "a2fca696-f6a3-4eae-fcf1-4ac2fa3a390b"
   },
   "outputs": [],
   "source": [
    "uber_15['Pickup_date'][0]"
   ]
  },
  {
   "cell_type": "code",
   "execution_count": null,
   "metadata": {
    "colab": {
     "base_uri": "https://localhost:8080/"
    },
    "executionInfo": {
     "elapsed": 4,
     "status": "ok",
     "timestamp": 1714221636913,
     "user": {
      "displayName": "Phani Venkata Vulasi",
      "userId": "15387299971043697954"
     },
     "user_tz": -330
    },
    "id": "obA3R5d6XSa0",
    "outputId": "c5a59c4e-e00d-4c4a-ab0d-5848503599f3"
   },
   "outputs": [],
   "source": [
    "type(uber_15['Pickup_date'][0])"
   ]
  },
  {
   "cell_type": "code",
   "execution_count": null,
   "metadata": {
    "id": "PJRqAY-lZ_Rs"
   },
   "outputs": [],
   "source": [
    "uber_15['Month']=uber_15['Pickup_date'].dt.month_name()"
   ]
  },
  {
   "cell_type": "code",
   "execution_count": null,
   "metadata": {
    "colab": {
     "base_uri": "https://localhost:8080/"
    },
    "executionInfo": {
     "elapsed": 3,
     "status": "ok",
     "timestamp": 1714221642605,
     "user": {
      "displayName": "Phani Venkata Vulasi",
      "userId": "15387299971043697954"
     },
     "user_tz": -330
    },
    "id": "GlmTij4laNjE",
    "outputId": "0c2cf38c-be45-4ef8-85fd-a7d0b5ba26aa"
   },
   "outputs": [],
   "source": [
    "uber_15['Month'].count()"
   ]
  },
  {
   "cell_type": "code",
   "execution_count": null,
   "metadata": {
    "id": "_l10R0uiakNo"
   },
   "outputs": [],
   "source": [
    "uber_15['weekday']=uber_15['Pickup_date'].dt.day_name()\n",
    "uber_15['day']=uber_15['Pickup_date'].dt.day\n",
    "uber_15['hour']=uber_15['Pickup_date'].dt.hour\n",
    "uber_15['minute']=uber_15['Pickup_date'].dt.minute"
   ]
  },
  {
   "cell_type": "code",
   "execution_count": null,
   "metadata": {
    "colab": {
     "base_uri": "https://localhost:8080/",
     "height": 264
    },
    "executionInfo": {
     "elapsed": 5,
     "status": "ok",
     "timestamp": 1714222211513,
     "user": {
      "displayName": "Phani Venkata Vulasi",
      "userId": "15387299971043697954"
     },
     "user_tz": -330
    },
    "id": "TfxVhaUxbWjF",
    "outputId": "fd4050c5-0de8-4c38-fbf0-9f5a6fddf03b"
   },
   "outputs": [],
   "source": [
    "uber_15.head(4)"
   ]
  },
  {
   "cell_type": "code",
   "execution_count": null,
   "metadata": {
    "id": "YXiNOJgzcHhz"
   },
   "outputs": [],
   "source": [
    "pivot=pd.crosstab(index=uber_15['Month'],columns=uber_15['weekday'])"
   ]
  },
  {
   "cell_type": "code",
   "execution_count": null,
   "metadata": {
    "colab": {
     "base_uri": "https://localhost:8080/",
     "height": 268
    },
    "executionInfo": {
     "elapsed": 7,
     "status": "ok",
     "timestamp": 1714222225554,
     "user": {
      "displayName": "Phani Venkata Vulasi",
      "userId": "15387299971043697954"
     },
     "user_tz": -330
    },
    "id": "d86bmVkDctY3",
    "outputId": "269696de-b3ea-45e5-b5ea-ce5366de84a8"
   },
   "outputs": [],
   "source": [
    "pivot"
   ]
  },
  {
   "cell_type": "code",
   "execution_count": null,
   "metadata": {
    "colab": {
     "base_uri": "https://localhost:8080/",
     "height": 1000
    },
    "executionInfo": {
     "elapsed": 1001,
     "status": "ok",
     "timestamp": 1714222234608,
     "user": {
      "displayName": "Phani Venkata Vulasi",
      "userId": "15387299971043697954"
     },
     "user_tz": -330
    },
    "id": "OLXTYs5wc8JX",
    "outputId": "f7ff360f-65a8-481b-ed26-f32ad75bcde5"
   },
   "outputs": [],
   "source": [
    "pivot.plot(kind='bar',figsize=(8,12))"
   ]
  },
  {
   "cell_type": "code",
   "execution_count": null,
   "metadata": {
    "id": "xJgKdW9teZut"
   },
   "outputs": [],
   "source": [
    "summary=uber_15.groupby(['weekday','hour'], as_index=False).size()"
   ]
  },
  {
   "cell_type": "code",
   "execution_count": null,
   "metadata": {
    "colab": {
     "base_uri": "https://localhost:8080/",
     "height": 423
    },
    "executionInfo": {
     "elapsed": 3,
     "status": "ok",
     "timestamp": 1714222241570,
     "user": {
      "displayName": "Phani Venkata Vulasi",
      "userId": "15387299971043697954"
     },
     "user_tz": -330
    },
    "id": "dF33NXycgVtT",
    "outputId": "86177444-cf91-4825-c514-dcc44eae00d3"
   },
   "outputs": [],
   "source": [
    "summary"
   ]
  },
  {
   "cell_type": "code",
   "execution_count": null,
   "metadata": {
    "colab": {
     "base_uri": "https://localhost:8080/",
     "height": 560
    },
    "executionInfo": {
     "elapsed": 2267,
     "status": "ok",
     "timestamp": 1714222247387,
     "user": {
      "displayName": "Phani Venkata Vulasi",
      "userId": "15387299971043697954"
     },
     "user_tz": -330
    },
    "id": "_3IfUzqghe0U",
    "outputId": "30968dda-7fc5-40bb-e4bc-f73211b8a4ad"
   },
   "outputs": [],
   "source": [
    "plt.figure(figsize=(8,6))\n",
    "sns.pointplot(x='hour',y='size',hue='weekday',data=summary)"
   ]
  },
  {
   "cell_type": "code",
   "execution_count": null,
   "metadata": {
    "id": "xZ74-LkegXqd"
   },
   "outputs": [],
   "source": [
    "uber_foil=pd.read_csv('/content/Uber-Jan-Feb-FOIL.csv')"
   ]
  },
  {
   "cell_type": "code",
   "execution_count": null,
   "metadata": {
    "colab": {
     "base_uri": "https://localhost:8080/"
    },
    "executionInfo": {
     "elapsed": 5,
     "status": "ok",
     "timestamp": 1714224480506,
     "user": {
      "displayName": "Phani Venkata Vulasi",
      "userId": "15387299971043697954"
     },
     "user_tz": -330
    },
    "id": "iCa3XiX_vX04",
    "outputId": "d6587418-0d1c-4c5d-d68a-4a0978a83b5b"
   },
   "outputs": [],
   "source": [
    "uber_foil.columns"
   ]
  },
  {
   "cell_type": "code",
   "execution_count": null,
   "metadata": {
    "colab": {
     "base_uri": "https://localhost:8080/"
    },
    "executionInfo": {
     "elapsed": 2,
     "status": "ok",
     "timestamp": 1714224484626,
     "user": {
      "displayName": "Phani Venkata Vulasi",
      "userId": "15387299971043697954"
     },
     "user_tz": -330
    },
    "id": "njoqqO-snN_n",
    "outputId": "8ad0ca32-1687-4595-df03-83201e344459"
   },
   "outputs": [],
   "source": [
    "uber_foil.shape"
   ]
  },
  {
   "cell_type": "code",
   "execution_count": null,
   "metadata": {
    "colab": {
     "base_uri": "https://localhost:8080/",
     "height": 174
    },
    "executionInfo": {
     "elapsed": 4,
     "status": "ok",
     "timestamp": 1714224487094,
     "user": {
      "displayName": "Phani Venkata Vulasi",
      "userId": "15387299971043697954"
     },
     "user_tz": -330
    },
    "id": "TBfZ8CzOnTTZ",
    "outputId": "0456143f-5520-405e-b650-f419926c6554"
   },
   "outputs": [],
   "source": [
    "uber_foil.head(4)"
   ]
  },
  {
   "cell_type": "code",
   "execution_count": null,
   "metadata": {
    "colab": {
     "base_uri": "https://localhost:8080/"
    },
    "executionInfo": {
     "elapsed": 13757,
     "status": "ok",
     "timestamp": 1714224502062,
     "user": {
      "displayName": "Phani Venkata Vulasi",
      "userId": "15387299971043697954"
     },
     "user_tz": -330
    },
    "id": "00vLds-aoQOH",
    "outputId": "bbc4b67d-2dcd-4a2a-8cdb-4973b5c801b7"
   },
   "outputs": [],
   "source": [
    "!pip install chart_studio\n",
    "!pip install plotly"
   ]
  },
  {
   "cell_type": "code",
   "execution_count": null,
   "metadata": {
    "id": "xnLX9N-7of_E"
   },
   "outputs": [],
   "source": [
    "import plotly.io as pio\n"
   ]
  },
  {
   "cell_type": "code",
   "execution_count": null,
   "metadata": {
    "id": "44N9KcRcwM-_"
   },
   "outputs": [],
   "source": [
    "pio.renderers.default = \"colab\""
   ]
  },
  {
   "cell_type": "code",
   "execution_count": null,
   "metadata": {
    "colab": {
     "base_uri": "https://localhost:8080/"
    },
    "executionInfo": {
     "elapsed": 2,
     "status": "ok",
     "timestamp": 1714224739829,
     "user": {
      "displayName": "Phani Venkata Vulasi",
      "userId": "15387299971043697954"
     },
     "user_tz": -330
    },
    "id": "lkl3LJ82pwiW",
    "outputId": "f0495db5-cfe3-4a7f-9985-fe87bec7f9c7"
   },
   "outputs": [],
   "source": [
    "uber_foil.columns"
   ]
  },
  {
   "cell_type": "code",
   "execution_count": null,
   "metadata": {
    "colab": {
     "base_uri": "https://localhost:8080/",
     "height": 542
    },
    "executionInfo": {
     "elapsed": 581,
     "status": "ok",
     "timestamp": 1714224743984,
     "user": {
      "displayName": "Phani Venkata Vulasi",
      "userId": "15387299971043697954"
     },
     "user_tz": -330
    },
    "id": "Exe-rc7Xp8JL",
    "outputId": "ea668f1b-f476-416d-bbc7-b8ade75fbe36"
   },
   "outputs": [],
   "source": [
    "fig=px.box(x='dispatching_base_number', y='active_vehicles',data_frame=uber_foil)\n",
    "fig.show()"
   ]
  },
  {
   "cell_type": "code",
   "execution_count": null,
   "metadata": {
    "colab": {
     "base_uri": "https://localhost:8080/",
     "height": 542
    },
    "executionInfo": {
     "elapsed": 364,
     "status": "ok",
     "timestamp": 1714224878888,
     "user": {
      "displayName": "Phani Venkata Vulasi",
      "userId": "15387299971043697954"
     },
     "user_tz": -330
    },
    "id": "GlapK9Djw6UX",
    "outputId": "0f7e2e28-2af7-493b-87f6-b0bd7a8bc88a"
   },
   "outputs": [],
   "source": [
    "px.violin(x='dispatching_base_number', y='active_vehicles',data_frame=uber_foil)"
   ]
  },
  {
   "cell_type": "code",
   "execution_count": null,
   "metadata": {
    "colab": {
     "base_uri": "https://localhost:8080/"
    },
    "executionInfo": {
     "elapsed": 10940,
     "status": "ok",
     "timestamp": 1714230714327,
     "user": {
      "displayName": "Phani Venkata Vulasi",
      "userId": "15387299971043697954"
     },
     "user_tz": -330
    },
    "id": "vMkWKmeoF-B2",
    "outputId": "3f3291f5-435d-41be-e5d2-ee6816b43307"
   },
   "outputs": [],
   "source": [
    "from google.colab import drive\n",
    "drive.mount('/content/drive',force_remount=True)"
   ]
  },
  {
   "cell_type": "code",
   "execution_count": null,
   "metadata": {
    "id": "ni8XkopbHPaU"
   },
   "outputs": [],
   "source": [
    "import os"
   ]
  },
  {
   "cell_type": "code",
   "execution_count": null,
   "metadata": {
    "colab": {
     "base_uri": "https://localhost:8080/"
    },
    "executionInfo": {
     "elapsed": 20,
     "status": "ok",
     "timestamp": 1714230813945,
     "user": {
      "displayName": "Phani Venkata Vulasi",
      "userId": "15387299971043697954"
     },
     "user_tz": -330
    },
    "id": "HOprd-rpHYIm",
    "outputId": "3a66e700-0fbf-4847-f7fd-b0f3ae9a5497"
   },
   "outputs": [],
   "source": [
    "os.listdir(r'/content/drive/MyDrive/Datasets')"
   ]
  },
  {
   "cell_type": "code",
   "execution_count": null,
   "metadata": {
    "id": "cAFb_abB2utH"
   },
   "outputs": [],
   "source": [
    "files=os.listdir(r'/content/drive/MyDrive/Datasets')"
   ]
  },
  {
   "cell_type": "code",
   "execution_count": null,
   "metadata": {
    "colab": {
     "base_uri": "https://localhost:8080/"
    },
    "executionInfo": {
     "elapsed": 355,
     "status": "ok",
     "timestamp": 1714230885451,
     "user": {
      "displayName": "Phani Venkata Vulasi",
      "userId": "15387299971043697954"
     },
     "user_tz": -330
    },
    "id": "m4NGJMeRGyU6",
    "outputId": "17e7f27a-efcd-4888-80fa-1400846056a5"
   },
   "outputs": [],
   "source": [
    "files"
   ]
  },
  {
   "cell_type": "code",
   "execution_count": null,
   "metadata": {
    "id": "Y8ROOnD9CgCt"
   },
   "outputs": [],
   "source": [
    "final=pd.DataFrame()\n",
    "path='/content/drive/MyDrive/Datasets'\n",
    "for file in files:\n",
    "  current_df=pd.read_csv(path+'/'+file)\n",
    "  final=pd.concat([current_df,final])"
   ]
  },
  {
   "cell_type": "code",
   "execution_count": null,
   "metadata": {
    "colab": {
     "base_uri": "https://localhost:8080/"
    },
    "executionInfo": {
     "elapsed": 1116,
     "status": "ok",
     "timestamp": 1714231377085,
     "user": {
      "displayName": "Phani Venkata Vulasi",
      "userId": "15387299971043697954"
     },
     "user_tz": -330
    },
    "id": "WRGPo4EdEz1m",
    "outputId": "9870e7a0-d2bc-4e74-affc-103c8415648b"
   },
   "outputs": [],
   "source": [
    "final.shape"
   ]
  },
  {
   "cell_type": "code",
   "execution_count": null,
   "metadata": {
    "colab": {
     "base_uri": "https://localhost:8080/"
    },
    "executionInfo": {
     "elapsed": 2006,
     "status": "ok",
     "timestamp": 1714231451399,
     "user": {
      "displayName": "Phani Venkata Vulasi",
      "userId": "15387299971043697954"
     },
     "user_tz": -330
    },
    "id": "TBNd6EYMJ31r",
    "outputId": "c0a2d541-4b6e-4898-97cc-e97da8738caf"
   },
   "outputs": [],
   "source": [
    "final.duplicated().sum()"
   ]
  },
  {
   "cell_type": "code",
   "execution_count": null,
   "metadata": {
    "id": "RfFfnHZnKDGR"
   },
   "outputs": [],
   "source": [
    "final.drop_duplicates(inplace=True)"
   ]
  },
  {
   "cell_type": "code",
   "execution_count": null,
   "metadata": {
    "colab": {
     "base_uri": "https://localhost:8080/"
    },
    "executionInfo": {
     "elapsed": 5,
     "status": "ok",
     "timestamp": 1714231562514,
     "user": {
      "displayName": "Phani Venkata Vulasi",
      "userId": "15387299971043697954"
     },
     "user_tz": -330
    },
    "id": "2dcMIHXgKcdf",
    "outputId": "87df5721-0d80-4c85-8891-275d71e48873"
   },
   "outputs": [],
   "source": [
    "final.shape"
   ]
  },
  {
   "cell_type": "code",
   "execution_count": null,
   "metadata": {
    "colab": {
     "base_uri": "https://localhost:8080/",
     "height": 174
    },
    "executionInfo": {
     "elapsed": 12,
     "status": "ok",
     "timestamp": 1714231596824,
     "user": {
      "displayName": "Phani Venkata Vulasi",
      "userId": "15387299971043697954"
     },
     "user_tz": -330
    },
    "id": "1sR7KryOKjWU",
    "outputId": "235ecaff-1ac7-4ba0-e3dc-1504f8cdb423"
   },
   "outputs": [],
   "source": [
    "final.head(4)"
   ]
  },
  {
   "cell_type": "code",
   "execution_count": null,
   "metadata": {
    "id": "m2CCFx1lLIUn"
   },
   "outputs": [],
   "source": [
    "rush_uber=final.groupby(['Lat','Lon'], as_index=False).size()"
   ]
  },
  {
   "cell_type": "code",
   "execution_count": null,
   "metadata": {
    "colab": {
     "base_uri": "https://localhost:8080/",
     "height": 174
    },
    "executionInfo": {
     "elapsed": 12,
     "status": "ok",
     "timestamp": 1714232019405,
     "user": {
      "displayName": "Phani Venkata Vulasi",
      "userId": "15387299971043697954"
     },
     "user_tz": -330
    },
    "id": "4WANHjnKMJOQ",
    "outputId": "ff72c2da-a553-49bb-f2aa-8f223c891553"
   },
   "outputs": [],
   "source": [
    "rush_uber.head(4)"
   ]
  },
  {
   "cell_type": "code",
   "execution_count": null,
   "metadata": {
    "colab": {
     "base_uri": "https://localhost:8080/"
    },
    "executionInfo": {
     "elapsed": 9270,
     "status": "ok",
     "timestamp": 1714232124165,
     "user": {
      "displayName": "Phani Venkata Vulasi",
      "userId": "15387299971043697954"
     },
     "user_tz": -330
    },
    "id": "xihL6eCWMNOM",
    "outputId": "b72448aa-f554-4878-cb7e-2457712d693d"
   },
   "outputs": [],
   "source": [
    "!pip install folium"
   ]
  },
  {
   "cell_type": "code",
   "execution_count": null,
   "metadata": {
    "id": "yHYEbXY8Mk1H"
   },
   "outputs": [],
   "source": [
    "import folium"
   ]
  },
  {
   "cell_type": "code",
   "execution_count": null,
   "metadata": {
    "id": "XUjc08OUMrA9"
   },
   "outputs": [],
   "source": [
    "basemap=folium.Map()"
   ]
  },
  {
   "cell_type": "code",
   "execution_count": null,
   "metadata": {
    "colab": {
     "base_uri": "https://localhost:8080/",
     "height": 461
    },
    "executionInfo": {
     "elapsed": 12,
     "status": "ok",
     "timestamp": 1714232201915,
     "user": {
      "displayName": "Phani Venkata Vulasi",
      "userId": "15387299971043697954"
     },
     "user_tz": -330
    },
    "id": "My1gOQvnM38l",
    "outputId": "8cd00aed-f610-4858-960c-f7ecc22d0f23"
   },
   "outputs": [],
   "source": [
    "basemap"
   ]
  },
  {
   "cell_type": "code",
   "execution_count": null,
   "metadata": {
    "id": "FAfNkDdhNDK3"
   },
   "outputs": [],
   "source": [
    "from folium.plugins import HeatMap\n"
   ]
  },
  {
   "cell_type": "code",
   "execution_count": null,
   "metadata": {
    "colab": {
     "base_uri": "https://localhost:8080/"
    },
    "executionInfo": {
     "elapsed": 5549,
     "status": "ok",
     "timestamp": 1714232413163,
     "user": {
      "displayName": "Phani Venkata Vulasi",
      "userId": "15387299971043697954"
     },
     "user_tz": -330
    },
    "id": "xAJw8GJVNaDm",
    "outputId": "3ec430ef-f15a-4f36-9c8a-4f0cf5ddf884"
   },
   "outputs": [],
   "source": [
    "HeatMap(rush_uber).add_to(basemap)"
   ]
  },
  {
   "cell_type": "code",
   "execution_count": null,
   "metadata": {
    "colab": {
     "base_uri": "https://localhost:8080/",
     "height": 461,
     "output_embedded_package_id": "1ThKq0XrNx228SnMpMAGojjACBFyU4gEk"
    },
    "executionInfo": {
     "elapsed": 7742,
     "status": "ok",
     "timestamp": 1714232427699,
     "user": {
      "displayName": "Phani Venkata Vulasi",
      "userId": "15387299971043697954"
     },
     "user_tz": -330
    },
    "id": "vAPbd6XkNs3D",
    "outputId": "ffbe4590-d8d7-4bca-ad7b-4cf74f0bf5ed"
   },
   "outputs": [],
   "source": [
    "basemap"
   ]
  },
  {
   "cell_type": "code",
   "execution_count": null,
   "metadata": {
    "colab": {
     "base_uri": "https://localhost:8080/",
     "height": 112
    },
    "executionInfo": {
     "elapsed": 13,
     "status": "ok",
     "timestamp": 1714232740397,
     "user": {
      "displayName": "Phani Venkata Vulasi",
      "userId": "15387299971043697954"
     },
     "user_tz": -330
    },
    "id": "yDmyLvorO47Z",
    "outputId": "aa708cb8-5131-49d3-e069-6c3f34a931a6"
   },
   "outputs": [],
   "source": [
    "final.head(2)\n"
   ]
  },
  {
   "cell_type": "code",
   "execution_count": null,
   "metadata": {
    "colab": {
     "base_uri": "https://localhost:8080/"
    },
    "executionInfo": {
     "elapsed": 457,
     "status": "ok",
     "timestamp": 1714233054117,
     "user": {
      "displayName": "Phani Venkata Vulasi",
      "userId": "15387299971043697954"
     },
     "user_tz": -330
    },
    "id": "CQHqBjd3P9zC",
    "outputId": "55e13f32-4c10-45d4-f544-94de11edafb2"
   },
   "outputs": [],
   "source": [
    "final['Date/Time'][0]"
   ]
  },
  {
   "cell_type": "code",
   "execution_count": null,
   "metadata": {
    "id": "GomAZnOXO9SN"
   },
   "outputs": [],
   "source": [
    "final['Date/Time']=pd.to_datetime(final['Date/Time'],format=\"%m/%d/%Y %H:%M:%S\")"
   ]
  },
  {
   "cell_type": "code",
   "execution_count": null,
   "metadata": {
    "colab": {
     "base_uri": "https://localhost:8080/"
    },
    "executionInfo": {
     "elapsed": 28,
     "status": "ok",
     "timestamp": 1714233168594,
     "user": {
      "displayName": "Phani Venkata Vulasi",
      "userId": "15387299971043697954"
     },
     "user_tz": -330
    },
    "id": "eOKboQMRQhNG",
    "outputId": "382d0511-7b6d-443d-86cc-93c98274b0b5"
   },
   "outputs": [],
   "source": [
    "final['Date/Time'][0]"
   ]
  },
  {
   "cell_type": "code",
   "execution_count": null,
   "metadata": {
    "id": "c_iLBp5_Q9Jp"
   },
   "outputs": [],
   "source": [
    "final['day']=final['Date/Time'].dt.day\n",
    "final['hour']=final['Date/Time'].dt.hour"
   ]
  },
  {
   "cell_type": "code",
   "execution_count": null,
   "metadata": {
    "colab": {
     "base_uri": "https://localhost:8080/",
     "height": 174
    },
    "executionInfo": {
     "elapsed": 12,
     "status": "ok",
     "timestamp": 1714233374498,
     "user": {
      "displayName": "Phani Venkata Vulasi",
      "userId": "15387299971043697954"
     },
     "user_tz": -330
    },
    "id": "_dGk7GbVRVKu",
    "outputId": "ec4c8ac4-b6bf-4967-f950-6e83ee6b36b9"
   },
   "outputs": [],
   "source": [
    "final.head(4)"
   ]
  },
  {
   "cell_type": "code",
   "execution_count": null,
   "metadata": {
    "id": "ILO9RmegReAL"
   },
   "outputs": [],
   "source": [
    "pivot=final.groupby(['day','hour']).size().unstack()"
   ]
  },
  {
   "cell_type": "code",
   "execution_count": null,
   "metadata": {
    "colab": {
     "base_uri": "https://localhost:8080/",
     "height": 1000
    },
    "executionInfo": {
     "elapsed": 12,
     "status": "ok",
     "timestamp": 1714233577690,
     "user": {
      "displayName": "Phani Venkata Vulasi",
      "userId": "15387299971043697954"
     },
     "user_tz": -330
    },
    "id": "mhrIsLQeSHlV",
    "outputId": "d5f6e2a4-a8b6-4be1-91b1-964520048541"
   },
   "outputs": [],
   "source": [
    "pivot"
   ]
  },
  {
   "cell_type": "code",
   "execution_count": null,
   "metadata": {
    "colab": {
     "base_uri": "https://localhost:8080/",
     "height": 1000
    },
    "executionInfo": {
     "elapsed": 11,
     "status": "ok",
     "timestamp": 1714233658947,
     "user": {
      "displayName": "Phani Venkata Vulasi",
      "userId": "15387299971043697954"
     },
     "user_tz": -330
    },
    "id": "ruuL6-oESTK5",
    "outputId": "b658afc7-68d8-4790-a876-d1a2542c7e93"
   },
   "outputs": [],
   "source": [
    "pivot.style.background_gradient()"
   ]
  },
  {
   "cell_type": "code",
   "execution_count": null,
   "metadata": {
    "id": "bObyPHOGTPaE"
   },
   "outputs": [],
   "source": [
    "def gen_pivot_table(df,col1,col2):\n",
    "  pivot=final.groupby([col1,col2]).size().unstack()\n",
    "  return pivot.style.background_gradient()\n"
   ]
  },
  {
   "cell_type": "code",
   "execution_count": null,
   "metadata": {
    "colab": {
     "base_uri": "https://localhost:8080/"
    },
    "executionInfo": {
     "elapsed": 6,
     "status": "ok",
     "timestamp": 1714234023399,
     "user": {
      "displayName": "Phani Venkata Vulasi",
      "userId": "15387299971043697954"
     },
     "user_tz": -330
    },
    "id": "-hkSreAUTz8r",
    "outputId": "37594bdb-c781-49e9-f587-3863e3301fb3"
   },
   "outputs": [],
   "source": [
    "final.columns"
   ]
  },
  {
   "cell_type": "code",
   "execution_count": null,
   "metadata": {
    "colab": {
     "base_uri": "https://localhost:8080/",
     "height": 1000
    },
    "executionInfo": {
     "elapsed": 5406,
     "status": "ok",
     "timestamp": 1714234093302,
     "user": {
      "displayName": "Phani Venkata Vulasi",
      "userId": "15387299971043697954"
     },
     "user_tz": -330
    },
    "id": "8Li3owvOTtWo",
    "outputId": "356619e1-5122-483c-ead6-7fe03b78a146"
   },
   "outputs": [],
   "source": [
    "gen_pivot_table(final,'Lon', 'Base')"
   ]
  },
  {
   "cell_type": "code",
   "execution_count": null,
   "metadata": {},
   "outputs": [],
   "source": []
  }
 ],
 "metadata": {
  "colab": {
   "authorship_tag": "ABX9TyPDyOXCHv7Dif4KC2D2p//r",
   "mount_file_id": "1HXUhovy2q9DcAQeUJw4XkYdyJ6rFb_RZ",
   "provenance": []
  },
  "kernelspec": {
   "display_name": "Python 3 (ipykernel)",
   "language": "python",
   "name": "python3"
  },
  "language_info": {
   "codemirror_mode": {
    "name": "ipython",
    "version": 3
   },
   "file_extension": ".py",
   "mimetype": "text/x-python",
   "name": "python",
   "nbconvert_exporter": "python",
   "pygments_lexer": "ipython3",
   "version": "3.10.10"
  }
 },
 "nbformat": 4,
 "nbformat_minor": 4
}
